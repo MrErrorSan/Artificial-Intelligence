{
  "cells": [
    {
      "cell_type": "code",
      "execution_count": null,
      "metadata": {
        "id": "XWx28I5_niX3"
      },
      "outputs": [],
      "source": [
        "from sklearn.cluster import KMeans\n",
        "import matplotlib.pyplot as plt\n",
        "import pandas as pd\n",
        "\n",
        "\n",
        "dof= pd.read_excel('OnlineRetail.xlsx')\n",
        "#Clearing the data\n",
        "for i in dof.index:\n",
        "  try:\n",
        "    float(dof.loc[i,\"InvoiceNo\"])\n",
        "    float(dof.loc[i,\"StockCode\"])\n",
        "    float(dof.loc[i,\"Quantity\"])\n",
        "    float(dof.loc[i,\"UnitPrice\"])\n",
        "  except:\n",
        "    dof.drop(i,inplace=True)\n",
        "#clustring the data\n",
        "dof=dof.dropna()\n",
        "kmean=KMeans(n_clusters=4,max_iter=50)\n",
        "kmean.fit(dof)\n",
        "plt.figure(figsize=(10,7))\n",
        "plt.scatter(dof['InvoiceNo'],dof['StockCode'],c=kmean.labels_)\n"
      ]
    },
    {
      "cell_type": "code",
      "source": [
        "from sklearn.cluster import AgglomerativeClustering\n",
        "cluster = AgglomerativeClustering()\n",
        "cluster.fit_predict(dof)\n",
        "\n",
        "plt.figure(figsize=(10,7))\n",
        "plt.scatter(dof['InvoiceNo'],dof['StockCode'],c=kmean.labels_)"
      ],
      "metadata": {
        "id": "pXDbI8FjBM9k"
      },
      "execution_count": null,
      "outputs": []
    }
  ],
  "metadata": {
    "colab": {
      "name": "AI_LAB_9.ipynb",
      "provenance": [],
      "collapsed_sections": []
    },
    "kernelspec": {
      "display_name": "Python 3",
      "name": "python3"
    },
    "language_info": {
      "name": "python"
    }
  },
  "nbformat": 4,
  "nbformat_minor": 0
}