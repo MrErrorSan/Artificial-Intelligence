{
  "cells": [
    {
      "cell_type": "code",
      "execution_count": null,
      "metadata": {
        "id": "XWx28I5_niX3"
      },
      "outputs": [],
      "source": [
        "from sklearn.cluster import KMeans\n",
        "import matplotlib.pyplot as plt\n",
        "import pandas as pd\n",
        "\n",
        "\n",
        "df= pd.read_excel('OnlineRetail.xlsx')\n",
        "#Clearing the data\n",
        "for i in df.index:\n",
        "  try:\n",
        "    float(df.loc[i,\"InvoiceNo\"])\n",
        "    float(df.loc[i,\"StockCode\"])\n",
        "    float(df.loc[i,\"Quantity\"])\n",
        "    float(df.loc[i,\"UnitPrice\"])\n",
        "    print(i)\n",
        "  except:\n",
        "    df.drop(i,inplace=True)\n",
        "#clustring the data\n",
        "df=df.dropna()\n",
        "kmeans=KMeans(n_clusters=4,max_iter=50)\n",
        "kmeans.fit(df)\n",
        "plt.figure(figsize=(10,7))\n",
        "plt.scatter(df['InvoiceNo'],df['StockCode'],c=kmeans.labels_)\n"
      ]
    }
  ],
  "metadata": {
    "colab": {
      "name": "AI_LAB_9.ipynb",
      "provenance": [],
      "collapsed_sections": []
    },
    "kernelspec": {
      "display_name": "Python 3",
      "name": "python3"
    },
    "language_info": {
      "name": "python"
    }
  },
  "nbformat": 4,
  "nbformat_minor": 0
}