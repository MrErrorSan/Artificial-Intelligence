{
  "nbformat": 4,
  "nbformat_minor": 0,
  "metadata": {
    "colab": {
      "name": "LabNo3.ipynb",
      "provenance": [],
      "collapsed_sections": []
    },
    "kernelspec": {
      "name": "python3",
      "display_name": "Python 3"
    },
    "language_info": {
      "name": "python"
    }
  },
  "cells": [
    {
      "cell_type": "code",
      "execution_count": null,
      "metadata": {
        "id": "rzD5-2C0I_iK"
      },
      "outputs": [],
      "source": [
        "# graphicDesigner = {'InDesign', 'Photoshop', 'Acrobat', 'Premiere', 'Bridge'}\n",
        "# print(graphicDesigner.pop())\n",
        "# print(graphicDesigner)\n",
        "# print(graphicDesigner.pop())\n",
        "# print(graphicDesigner)\n",
        "# a=0\n",
        "# b=1\n",
        "# c=a/b\n",
        "# print(c)"
      ]
    },
    {
      "cell_type": "code",
      "source": [
        "# file=open('file.txt','r')\n",
        "# #file.write(\"This is new created file.\")\n",
        "# for i in file:\n",
        "#   print(i)\n",
        "# file.close()"
      ],
      "metadata": {
        "id": "YO0Dtxv_NQwp"
      },
      "execution_count": null,
      "outputs": []
    },
    {
      "cell_type": "code",
      "source": [
        "# a = set()\n",
        "# n=int(input(\"Enter the size of set A : \"))\n",
        "# print(\"Enter the Elements of the set 1 by 1 : \")\n",
        "# try:\n",
        "#   while True:\n",
        "#     a.update(map(str, input().split()))\n",
        "#     print(a)\n",
        "# except:\n",
        "#   print(a)"
      ],
      "metadata": {
        "id": "jWCa-tjDT1GP"
      },
      "execution_count": null,
      "outputs": []
    },
    {
      "cell_type": "code",
      "source": [
        "a={1,2,3,4,5,6,'abc'}\n",
        "b={5,6,7,8,9,0,'abc','a'}\n",
        "c={}\n",
        "c=a^b   #xor oppreation\n",
        "print(c)"
      ],
      "metadata": {
        "colab": {
          "base_uri": "https://localhost:8080/"
        },
        "id": "qKDf_ulZOOqw",
        "outputId": "cf8fa58c-2855-4ae2-ff9e-e072d088771f"
      },
      "execution_count": 14,
      "outputs": [
        {
          "output_type": "stream",
          "name": "stdout",
          "text": [
            "{0, 1, 2, 3, 4, 7, 8, 9, 'a'}\n"
          ]
        }
      ]
    },
    {
      "cell_type": "code",
      "source": [
        "try:\n",
        "    a = float(input(\"Enter A : \"))\n",
        "    b = float(input(\"Enter B : \"))\n",
        "    c = a/b\n",
        "    print(\" A/B = \",c)\n",
        "except ValueError:\n",
        "    print(\"You should have given either an int or a float\")\n",
        "except TypeError:\n",
        "    print(\"You should have given either an int or a float\")\n",
        "except ZeroDivisionError:\n",
        "    print(\"A/B = Infinity\")\n",
        "finally:\n",
        "    print(\"Terminating...\")"
      ],
      "metadata": {
        "colab": {
          "base_uri": "https://localhost:8080/"
        },
        "id": "3GwFtPwIQE2R",
        "outputId": "8d21cce0-e628-4b07-d7df-b225a77fd311"
      },
      "execution_count": 15,
      "outputs": [
        {
          "output_type": "stream",
          "name": "stdout",
          "text": [
            "Enter A : 9\n",
            "Enter B : 0\n",
            "A/B = Infinity\n",
            "Terminating...\n"
          ]
        }
      ]
    },
    {
      "cell_type": "code",
      "source": [
        "# file=open('file.txt','r')\n",
        "# #file.write(\"This is new created file.\")\n",
        "# for i in file:\n",
        "#   print(i)\n",
        "# file.close()"
      ],
      "metadata": {
        "id": "q8pnQuFZcJML"
      },
      "execution_count": null,
      "outputs": []
    },
    {
      "cell_type": "code",
      "source": [
        "file = open('Alphabets.txt', 'r')\n",
        "a=[]\n",
        "a= file.read()\n",
        "#print(a[::-1])\n",
        "file.close()\n",
        "file= open('Reversed_Alphabets.txt','w')\n",
        "file.write(a[::-1])\n",
        "file.close()"
      ],
      "metadata": {
        "id": "SPQnKVEsdhFU"
      },
      "execution_count": 16,
      "outputs": []
    }
  ]
}