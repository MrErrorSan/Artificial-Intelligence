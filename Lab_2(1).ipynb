{
  "nbformat": 4,
  "nbformat_minor": 0,
  "metadata": {
    "colab": {
      "name": "Lab#2.ipynb",
      "provenance": [],
      "collapsed_sections": []
    },
    "kernelspec": {
      "name": "python3",
      "display_name": "Python 3"
    },
    "language_info": {
      "name": "python"
    }
  },
  "cells": [
    {
      "cell_type": "code",
      "execution_count": null,
      "metadata": {
        "id": "l6DEv-hcDbCZ"
      },
      "outputs": [],
      "source": [
        ""
      ]
    },
    {
      "cell_type": "code",
      "source": [
        "p0 = ['Mercury', 'Venus','Earth','Mars']\n",
        "p1 = ['Mercury', 'Venus','Earth','Mars']\n",
        "no=[1,2,3,4,5,6,7,8,9,0]\n",
        "planets = [p0,p1]\n",
        "#planets.append(p0)\n",
        "#for i in planets:\n",
        "#  print(\" \")\n",
        "#  for i1 in range(4):\n",
        "#    print(i[-1-i1])\n",
        "\n",
        "#print(len(planets))\n",
        "\n",
        "#print(planets)\n",
        "\n",
        "\n",
        "#print(p0[0:3])\n",
        "\n",
        "\n",
        "#p0[:2]=['a','b']\n",
        "#print(p0)\n",
        "\n",
        "# print(p0.count('Mars'))\n",
        "# print(p0.index('Mars'))\n",
        "\n",
        "#p0.sort(reverse = True)\n",
        "#print(p0)\n",
        "\n",
        "#no.pop()\n",
        "#del no[9]\n",
        "#print(min(no))\n",
        "#print(max(no))\n",
        "#print(sum(no))\n",
        "\n",
        "#'Pluto' in p0\n",
        "#'Mars' in p0\n",
        "\n",
        "#squares = [n**9 for n in range(3)]\n",
        "#print(squares)\n",
        "\n",
        "#print(p0[2].upper()+'!')\n",
        "\n",
        "def count_negatives(nums):\n",
        "  # False + True + True + False + False equals to 2.\n",
        "  # return len([num for num in nums if num &lt; 0])\n",
        "  return sum([num < 0 for num in nums])\n",
        "#count_negatives([5, -1, -2, -0, -3])\n",
        "\n",
        "# a = 1\n",
        "# b = 0\n",
        "# print(a,b)\n",
        "# a, b = b, a\n",
        "# print(a,b)\n",
        "\n",
        "\n"
      ],
      "metadata": {
        "colab": {
          "base_uri": "https://localhost:8080/"
        },
        "id": "UzLfr8BmDzkM",
        "outputId": "b17573dc-fc87-42da-b62a-38e0f3125777"
      },
      "execution_count": 54,
      "outputs": [
        {
          "output_type": "stream",
          "name": "stdout",
          "text": [
            "1\n",
            "3\n"
          ]
        }
      ]
    },
    {
      "cell_type": "code",
      "source": [
        "x = input('Enter String : ')\n",
        "sp=x.split()\n",
        "print('3rd word is : ' + sp[2])"
      ],
      "metadata": {
        "colab": {
          "base_uri": "https://localhost:8080/"
        },
        "id": "reAtjnRwSMyF",
        "outputId": "5148d067-604b-44bf-ca17-cbc5c5acf6dc"
      },
      "execution_count": 56,
      "outputs": [
        {
          "output_type": "stream",
          "name": "stdout",
          "text": [
            "Enter String : This is Saad Shafiq\n",
            "3rd word is : Saad\n"
          ]
        }
      ]
    },
    {
      "cell_type": "code",
      "source": [
        "def CountFrequency(my_list,n):\n",
        "  freq = {}\n",
        "  for z in range(0,n):\n",
        "    for item in my_list[z]:\n",
        "        if (item in freq):\n",
        "            freq[item] += 1\n",
        "        else:\n",
        "            freq[item] = 1\n",
        "  return freq\n",
        "def get_key(my_dict,val):\n",
        "    for key, value in my_dict.items():\n",
        "         if val == value:\n",
        "             return key\n",
        "if __name__ == \"__main__\":\n",
        "    from random import randint\n",
        "    n = 5\n",
        "    grid = [[randint(1, 5) for _ in range(n)] for i in range(n)]\n",
        "    disc = {}\n",
        "    print(grid)\n",
        "    disc=CountFrequency(grid,n)\n",
        "    print(disc)\n",
        "    l=list(disc.values())\n",
        "    l.sort(reverse = True)\n",
        "    print(\"\\n1st Highest\",get_key(disc,l[0]))\n",
        "    disc.pop(get_key(disc,l[0]))\n",
        "    print(\"2nd Highest\",get_key(disc,l[1]))\n",
        "    disc.pop(get_key(disc,l[1]))\n",
        "    print(\"3rd Highest\",get_key(disc,l[2]))"
      ],
      "metadata": {
        "colab": {
          "base_uri": "https://localhost:8080/"
        },
        "id": "tfDt84JOW_cL",
        "outputId": "dcbef38a-cbc1-4fe5-9a7e-b81eb50494a9"
      },
      "execution_count": 55,
      "outputs": [
        {
          "output_type": "stream",
          "name": "stdout",
          "text": [
            "[[5, 1, 4, 4, 5], [3, 2, 1, 4, 5], [2, 4, 4, 1, 4], [4, 1, 3, 5, 1], [1, 1, 4, 1, 5]]\n",
            "{5: 5, 1: 8, 4: 8, 3: 2, 2: 2}\n",
            "\n",
            "1st Highest 1\n",
            "2nd Highest 4\n",
            "3rd Highest 5\n"
          ]
        }
      ]
    },
    {
      "cell_type": "code",
      "source": [
        "d=[{'name':'Todd', 'phone':'555-1414', 'email':'todd@mail.net'},\n",
        "{'name':'Helga', 'phone':'555-1618', 'email':'helga@mail.net'},\n",
        "{'name':'Princess', 'phone':'555-3141', 'email':''},\n",
        "{'name':'LJ', 'phone':'555-2718', 'email':'lj@mail.net'}]\n",
        "print(\"All the users whose phone number ends in an 8\")\n",
        "for a in range (0,4):\n",
        "  if d[a]['phone'][-1]=='8':\n",
        "    print(d[a]['name'])\n",
        "print(\"\\nAll the users that don’t have an email address listed\")\n",
        "for a in range (0,4):\n",
        "  if d[a]['email']==\"\":\n",
        "    print(d[a]['name'])"
      ],
      "metadata": {
        "colab": {
          "base_uri": "https://localhost:8080/"
        },
        "id": "W0Xje4mviq9_",
        "outputId": "1539c499-dd4b-4873-cc29-70883b7a1af0"
      },
      "execution_count": 53,
      "outputs": [
        {
          "output_type": "stream",
          "name": "stdout",
          "text": [
            "All the users whose phone number ends in an 8\n",
            "Helga\n",
            "LJ\n",
            "\n",
            "All the users that don’t have an email address listed\n",
            "Princess\n"
          ]
        }
      ]
    }
  ]
}