{
 "cells": [
  {
   "cell_type": "code",
   "execution_count": null,
   "metadata": {},
   "outputs": [],
   "source": [
    "#    QUESTION#1\n",
    "from sklearn.datasets import load_iris\n",
    "from sklearn.model_selection import train_test_split\n",
    "from sklearn.preprocessing import StandardScaler\n",
    "from sklearn.neural_network import MLPClassifier\n",
    "\n",
    "X, y = make_classification(n_samples=1000, n_features=10, n_informative=10, n_redundant=0, random_state=1)\n",
    "# define model\n",
    "model = Perceptron()\n",
    "# define model evaluation method\n",
    "cv = RepeatedStratifiedKFold(n_splits=10, n_repeats=3, random_state=1)\n",
    "# evaluate model\n",
    "scores = cross_val_score(model, X, y, scoring='accuracy', cv=cv, n_jobs=-1)\n",
    "# summarize result\n",
    "print('Mean Accuracy: %.3f (%.3f)' % (mean(scores), std(scores)))"
   ]
  },
  {
   "cell_type": "code",
   "execution_count": 10,
   "metadata": {
    "colab": {
     "base_uri": "https://localhost:8080/"
    },
    "id": "ESBSEJc1peUi",
    "outputId": "edfa6f07-69f4-4561-8aae-32da5d9e3f53"
   },
   "outputs": [
    {
     "name": "stdout",
     "output_type": "stream",
     "text": [
      "Hello!\n"
     ]
    }
   ],
   "source": [
    "#    OUESTION#2\n",
    "print(\"Hello!\")"
   ]
  },
  {
   "cell_type": "code",
   "execution_count": 1,
   "metadata": {},
   "outputs": [
    {
     "name": "stdout",
     "output_type": "stream",
     "text": [
      "<class 'list'>\n",
      "[[1, 1, 0, 0, 1, 0], [1, 1, 1, 0, 0, 0], [1, 0, 0, 0, 0, 0], [1, 1, 1, 1, 0, 1]]\n"
     ]
    }
   ],
   "source": [
    "#initialize population\n",
    "import random\n",
    "best=-100000\n",
    "populations =([[random.randint(0,1) for x in range(6)] for i in range(4)])\n",
    "print(type(populations))\n",
    "parents=[]\n",
    "new_populations = []\n",
    "print(populations)"
   ]
  },
  {
   "cell_type": "code",
   "execution_count": 12,
   "metadata": {
    "colab": {
     "base_uri": "https://localhost:8080/"
    },
    "id": "mvaSIBntptrf",
    "outputId": "80fa26fa-d368-4e17-c83f-9272af3de767",
    "scrolled": false
   },
   "outputs": [
    {
     "name": "stdout",
     "output_type": "stream",
     "text": [
      "chromosome_value 0  :  0\n",
      "chromosome_value 1  :  -18\n",
      "chromosome_value 2  :  -24\n",
      "chromosome_value 3  :  -29\n",
      "fit_value :  [5, -319, -571, -836]\n",
      "<class 'tuple'>\n",
      "([1, 0, 0, 0, 0, 0], [1, 1, 0, 0, 1, 0])\n",
      "([1, 0, 0, 0, 0, 0], [1, 1, 0, 0, 1, 0], [1, 1, 1, 0, 0, 0], [1, 1, 1, 1, 0, 1])\n"
     ]
    }
   ],
   "source": [
    "######################################################################\n",
    "#fitness score calculation\n",
    "def fitness_score() :\n",
    "    global populations,best\n",
    "    fit_value = []\n",
    "    fit_score=[]\n",
    "    for i in range(4) :\n",
    "        chromosome_value=0\n",
    "        for j in range(5,0,-1) :\n",
    "            chromosome_value += populations[i][j]*(2**(5-j))\n",
    "        chromosome_value = -1*chromosome_value if populations[i][0]==1 else chromosome_value\n",
    "        print(\"chromosome_value\",i,\" : \",chromosome_value)\n",
    "        fit_value.append(-(chromosome_value**2) + 5 )\n",
    "    print(\"fit_value : \",fit_value)\n",
    "    fit_value, populations = zip(*sorted(zip(fit_value, populations) , reverse=True))\n",
    "    best= fit_value[0]\n",
    "fitness_score()\n",
    "#######################################################################\n",
    "def selectparent():\n",
    "    global parents\n",
    "    #global populations , parents\n",
    "    parents=populations[0:2]\n",
    "    print(type(parents))\n",
    "    print(parents)\n",
    "selectparent()\n",
    "######################################################################\n",
    "print(populations)"
   ]
  },
  {
   "cell_type": "code",
   "execution_count": 36,
   "metadata": {},
   "outputs": [
    {
     "name": "stdout",
     "output_type": "stream",
     "text": [
      "([0, 0, 0, 1, 0, 0], [1, 1, 0, 0, 1, 0], [1, 1, 1, 0, 0, 0], [1, 1, 1, 1, 0, 1])\n"
     ]
    }
   ],
   "source": [
    "#################################################################################\n",
    "def cross(c1, c2):\n",
    "    crossPoint1=random.randint(0,len(c1)-1)\n",
    "    crossPoint2=random.randint(0,len(c2)-1)\n",
    "    index=0\n",
    "    for x in range(crossPoint1,crossPoint2):\n",
    "        temp=c2[index]\n",
    "        c2[index]=c1[x]\n",
    "        c1[x]=temp\n",
    "        index+=1\n",
    "    return c1,c2\n",
    "#################################################################################\n",
    "def crossOver(percent):\n",
    "    n = len(populations)\n",
    "    n=int(n/100)\n",
    "    n=n*percent\n",
    "    j = 1\n",
    "    if (n % 2) != 0:\n",
    "        n -= 1\n",
    "    for i in range(n):\n",
    "        c1=populations[0]\n",
    "        populations.pop(0)\n",
    "        if (n-(i+j)) > 0:\n",
    "            r=random.randint(0, (n-(i+j)))\n",
    "        else:\n",
    "            r=0\n",
    "        c2 = populations[r]\n",
    "        populations.pop(r)\n",
    "        ret=cross(c1,c2)\n",
    "        populations.append(ret[0])\n",
    "        populations.append(ret[1])\n",
    "        j += 1\n",
    "    return populations\n",
    "#################################################################################\n",
    "print(crossOver(2))"
   ]
  },
  {
   "cell_type": "code",
   "execution_count": 38,
   "metadata": {},
   "outputs": [
    {
     "name": "stdout",
     "output_type": "stream",
     "text": [
      "([0, 0, 0, 1, 0, 0], [1, 1, 0, 0, 1, 0], [1, 1, 1, 0, 0, 0], [1, 1, 1, 1, 0, 1])\n",
      "chromosome_value 0  :  4\n",
      "chromosome_value 1  :  -18\n",
      "chromosome_value 2  :  -24\n",
      "chromosome_value 3  :  -29\n",
      "fit_value :  [-11, -319, -571, -836]\n"
     ]
    }
   ],
   "source": [
    "def mutation(percent):\n",
    "    n = len(populations)\n",
    "    n=int(n/100)\n",
    "    n=n*percent\n",
    "    for i in range(n):\n",
    "        x=populations[len(populations) - 1 - i]\n",
    "        x[random.randint(0, len(x) - 1)] = random.randint(1, 8)\n",
    "        x[random.randint(0, len(x) - 1)] = random.randint(1, 8)\n",
    "        ind=x\n",
    "        populations.pop(i)\n",
    "        populations.append(ind)\n",
    "    return populations\n",
    "print(mutation(2))\n",
    "fitness_score()\n"
   ]
  },
  {
   "cell_type": "code",
   "execution_count": null,
   "metadata": {},
   "outputs": [],
   "source": []
  }
 ],
 "metadata": {
  "colab": {
   "collapsed_sections": [],
   "name": "Quiz.ipynb",
   "provenance": []
  },
  "kernelspec": {
   "display_name": "Python 3 (ipykernel)",
   "language": "python",
   "name": "python3"
  },
  "language_info": {
   "codemirror_mode": {
    "name": "ipython",
    "version": 3
   },
   "file_extension": ".py",
   "mimetype": "text/x-python",
   "name": "python",
   "nbconvert_exporter": "python",
   "pygments_lexer": "ipython3",
   "version": "3.9.7"
  }
 },
 "nbformat": 4,
 "nbformat_minor": 1
}
